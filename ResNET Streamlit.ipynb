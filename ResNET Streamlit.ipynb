{
 "cells": [
  {
   "cell_type": "code",
   "execution_count": 6,
   "id": "ef1f0a5a",
   "metadata": {},
   "outputs": [
    {
     "name": "stderr",
     "output_type": "stream",
     "text": [
      "2024-04-08 01:06:30.541 \n",
      "  \u001b[33m\u001b[1mWarning:\u001b[0m to view this Streamlit app on a browser, run it with the following\n",
      "  command:\n",
      "\n",
      "    streamlit run C:\\ProgramData\\anaconda3\\Lib\\site-packages\\ipykernel_launcher.py [ARGUMENTS]\n"
     ]
    }
   ],
   "source": [
    "from tensorflow.keras.applications.resnet50 import ResNet50, preprocess_input, decode_predictions\n",
    "from tensorflow.keras.preprocessing import image\n",
    "import numpy as np\n",
    "import streamlit as st\n",
    "from PIL import Image\n",
    "\n",
    "# RESNet modelini yükle\n",
    "model = ResNet50(weights='imagenet')\n",
    "\n",
    "# Resim işleme fonksiyonunu tanımla\n",
    "def img_preprocessing(image_path_):\n",
    "    img = image.load_img(image_path_, target_size=(224, 224))\n",
    "    img = image.img_to_array(img)\n",
    "    img = np.expand_dims(img, axis=0)\n",
    "    img = preprocess_input(img)\n",
    "    return img\n",
    "\n",
    "# Streamlit uygulamasını oluştur\n",
    "def main():\n",
    "    st.title(\"Resim Sınıflandırma Uygulaması\")\n",
    "    uploaded_file = st.file_uploader(\"Resim dosyasını yükleyin\", type=[\"png\", \"jpg\", \"jpeg\"])\n",
    "\n",
    "    if uploaded_file is not None:\n",
    "        image = Image.open(uploaded_file)\n",
    "        st.image(image, caption=\"Yüklenen Resim\")\n",
    "        image_path = \"uploaded_image.jpg\"\n",
    "        image.save(image_path)\n",
    "\n",
    "        img = img_preprocessing(image_path)\n",
    "        pred = model.predict(img)\n",
    "        predictions = decode_predictions(pred, top=1)\n",
    "\n",
    "        st.write(\"Tahmin Edilen Sınıf: {}\".format(predictions[0][0][1]))\n",
    "        st.write(\"Tahmin Edilen Olasılık: {:.2f}%\".format(predictions[0][0][2] * 100))\n",
    "\n",
    "if __name__ == \"__main__\":\n",
    "    main()"
   ]
  },
  {
   "cell_type": "code",
   "execution_count": null,
   "id": "7e7fbefb",
   "metadata": {},
   "outputs": [],
   "source": [
    "#CI/CD continious Integration/Continous Development"
   ]
  }
 ],
 "metadata": {
  "kernelspec": {
   "display_name": "Python 3 (ipykernel)",
   "language": "python",
   "name": "python3"
  },
  "language_info": {
   "codemirror_mode": {
    "name": "ipython",
    "version": 3
   },
   "file_extension": ".py",
   "mimetype": "text/x-python",
   "name": "python",
   "nbconvert_exporter": "python",
   "pygments_lexer": "ipython3",
   "version": "3.11.5"
  }
 },
 "nbformat": 4,
 "nbformat_minor": 5
}
